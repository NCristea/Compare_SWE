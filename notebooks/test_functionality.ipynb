{
 "cells": [
  {
   "cell_type": "code",
   "execution_count": 4,
   "metadata": {
    "collapsed": true,
    "ExecuteTime": {
     "end_time": "2024-09-13T17:56:01.497899Z",
     "start_time": "2024-09-13T17:55:59.389763Z"
    }
   },
   "outputs": [],
   "source": [
    "import pandas as pd\n",
    "import geopandas as gpd"
   ]
  },
  {
   "cell_type": "code",
   "execution_count": 5,
   "outputs": [],
   "source": [
    "\n",
    "myshpfile = gpd.read_file('/Users/nicoleta/Desktop/code/Compare_SWE/data/GIS_data/SkagitRiver_BasinBoundary.shp')\n",
    "myshpfile.to_file('/Users/nicoleta/Desktop/code/Compare_SWE/data/GIS_data/Skagit.geojson', driver='GeoJSON')"
   ],
   "metadata": {
    "collapsed": false,
    "ExecuteTime": {
     "end_time": "2024-09-13T17:56:08.497398Z",
     "start_time": "2024-09-13T17:56:05.466147Z"
    }
   }
  },
  {
   "cell_type": "code",
   "execution_count": 11,
   "outputs": [],
   "source": [
    "def convertShpToGeojson(path_to_shp: str, path_to_json: str):\n",
    "    \"\"\"\n",
    "    Converts a shapefile (.shp) to a GeoJSON format.\n",
    "\n",
    "    This function reads a shapefile from the specified path and converts it\n",
    "    into a GeoJSON file, saving it at the desired output path.\n",
    "\n",
    "    Parameters\n",
    "    ----------\n",
    "    path_to_shp : str\n",
    "        The file path to the input shapefile (.shp) that will be converted.\n",
    "    path_to_json : str\n",
    "        The file path where the output GeoJSON will be saved.\n",
    "\n",
    "    Returns\n",
    "    -------\n",
    "    None\n",
    "        The function does not return any value. It writes the GeoJSON file\n",
    "        directly to the specified output path.\n",
    "\n",
    "    Notes\n",
    "    -----\n",
    "    This function requires the `geopandas` library to be installed for reading\n",
    "    and writing the shapefile and GeoJSON files.\n",
    "\n",
    "    Examples\n",
    "    --------\n",
    "    convertShpToGeojson('data/input.shp', 'data/output.json')\n",
    "\n",
    "    This will read the `input.shp` file and save the converted GeoJSON file to\n",
    "    `output.json`.\n",
    "\n",
    "    \"\"\"\n",
    "    myshpfile = gpd.read_file(path_to_shp)\n",
    "    myshpfile.to_file(path_to_json, driver='GeoJSON')\n",
    "    return\n"
   ],
   "metadata": {
    "collapsed": false,
    "ExecuteTime": {
     "end_time": "2024-09-13T21:37:36.474820Z",
     "start_time": "2024-09-13T21:37:36.464291Z"
    }
   }
  },
  {
   "cell_type": "code",
   "execution_count": 10,
   "outputs": [],
   "source": [
    "convertShpToGeojson('/Users/nicoleta/Desktop/code/Compare_SWE/data/GIS_data/SkagitRiver_BasinBoundary.shp','/Users/nicoleta/Desktop/code/Compare_SWE/data/GIS_data/Skagit_test.geojson')"
   ],
   "metadata": {
    "collapsed": false,
    "ExecuteTime": {
     "end_time": "2024-09-13T18:58:16.086347Z",
     "start_time": "2024-09-13T18:58:15.987364Z"
    }
   }
  },
  {
   "cell_type": "code",
   "execution_count": null,
   "outputs": [],
   "source": [],
   "metadata": {
    "collapsed": false
   }
  }
 ],
 "metadata": {
  "kernelspec": {
   "display_name": "Python 3",
   "language": "python",
   "name": "python3"
  },
  "language_info": {
   "codemirror_mode": {
    "name": "ipython",
    "version": 2
   },
   "file_extension": ".py",
   "mimetype": "text/x-python",
   "name": "python",
   "nbconvert_exporter": "python",
   "pygments_lexer": "ipython2",
   "version": "2.7.6"
  }
 },
 "nbformat": 4,
 "nbformat_minor": 0
}
