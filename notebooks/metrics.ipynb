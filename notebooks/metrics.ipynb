{
 "cells": [
  {
   "cell_type": "code",
   "execution_count": 1,
   "id": "b747f1ba-f651-4bcc-b616-3830f719ae26",
   "metadata": {
    "pycharm": {
     "name": "#%%\n"
    }
   },
   "outputs": [
    {
     "ename": "NameError",
     "evalue": "name 'gpd' is not defined",
     "output_type": "error",
     "traceback": [
      "\u001B[0;31m---------------------------------------------------------------------------\u001B[0m",
      "\u001B[0;31mNameError\u001B[0m                                 Traceback (most recent call last)",
      "Cell \u001B[0;32mIn [1], line 36\u001B[0m\n\u001B[1;32m     33\u001B[0m th \u001B[38;5;241m=\u001B[39m \u001B[38;5;241m0.1\u001B[39m \u001B[38;5;66;03m# using 10 cm threshold\u001B[39;00m\n\u001B[1;32m     35\u001B[0m dir_aso \u001B[38;5;241m=\u001B[39m \u001B[38;5;124m'\u001B[39m\u001B[38;5;124m/data0/kyang33/data/ASO/ori/ASO_3M_SD_USCOGE_20180524.tif\u001B[39m\u001B[38;5;124m'\u001B[39m \u001B[38;5;66;03m# Swiss site only has binary data\u001B[39;00m\n\u001B[0;32m---> 36\u001B[0m shp \u001B[38;5;241m=\u001B[39m \u001B[43mgpd\u001B[49m\u001B[38;5;241m.\u001B[39mread_file(\u001B[38;5;124m'\u001B[39m\u001B[38;5;124m/data0/kyang33/project/pc2_snow_cover_mapping_meadows/pipeline/data/results/validation/GIS/USCOGE_20180524_extent_remove_clouds.shp\u001B[39m\u001B[38;5;124m'\u001B[39m)\n\u001B[1;32m     37\u001B[0m ds_aso \u001B[38;5;241m=\u001B[39m xr\u001B[38;5;241m.\u001B[39mopen_rasterio(dir_aso)\u001B[38;5;241m.\u001B[39mrio\u001B[38;5;241m.\u001B[39mclip(shp\u001B[38;5;241m.\u001B[39mgeometry,from_disk\u001B[38;5;241m=\u001B[39m\u001B[38;5;28;01mTrue\u001B[39;00m)\n\u001B[1;32m     40\u001B[0m dir_pred \u001B[38;5;241m=\u001B[39m dir_out \u001B[38;5;241m+\u001B[39m \u001B[38;5;124m'\u001B[39m\u001B[38;5;124m/USCOGE_20180524_ndvi/\u001B[39m\u001B[38;5;124m'\u001B[39m\n",
      "\u001B[0;31mNameError\u001B[0m: name 'gpd' is not defined"
     ]
    }
   ],
   "source": [
    "# calculate five evaluation metrics\n",
    "def calculate_metrics(df):\n",
    "    # true positive and true negative\n",
    "    subdf = df[df.predict == df.obs] # true prediction\n",
    "    TP = len(subdf[subdf.predict == 1].index) # true positive\n",
    "    TN = len(subdf[subdf.predict == 0].index) # true negative\n",
    "\n",
    "    # false positive and false negative\n",
    "    subdf = df[df.predict != df.obs] # false prediction \n",
    "    FN = len(subdf[subdf.predict == 0].index)# false negative\n",
    "    FP = len(subdf[subdf.predict == 1].index) # false positive\n",
    "\n",
    "    precision = TP/(TP+FP)\n",
    "    recall = TP/(TP+FN)\n",
    "\n",
    "    sensitivity = TP/(TP+FN)\n",
    "    specificity = TN/(TN+FP)\n",
    "    balanced_accuracy = (sensitivity+specificity)/2\n",
    "    accuracy = (TP+TN)/(TP+TN+FP+FN)\n",
    "\n",
    "    f1 =  0 if precision + recall == 0 else 2 * precision * recall / (precision + recall)\n",
    "    out = pd.DataFrame(data = {'precision': [precision], \n",
    "                               'recall':[recall], \n",
    "                               'f1':[f1],\n",
    "                               'sensitivity':[sensitivity],\n",
    "                               'specificity':[specificity],\n",
    "                               'balanced_accuracy':[balanced_accuracy], \n",
    "                               'accuracy':[accuracy]})\n",
    "    return out\n",
    "\n",
    "\n",
    "# for RS CNN alone\n",
    "th = 0.1 # using 10 cm threshold\n",
    "\n",
    "dir_aso = '/data0/kyang33/data/ASO/ori/ASO_3M_SD_USCOGE_20180524.tif' # Swiss site only has binary data\n",
    "shp = gpd.read_file('/data0/kyang33/project/pc2_snow_cover_mapping_meadows/pipeline/data/results/validation/GIS/USCOGE_20180524_extent_remove_clouds.shp')\n",
    "ds_aso = xr.open_rasterio(dir_aso).rio.clip(shp.geometry,from_disk=True)\n",
    "\n",
    "\n",
    "dir_pred = dir_out + '/USCOGE_20180524_ndvi/'\n",
    "dir_RS = '/data0/kyang33/project/pc2_snow_cover_mapping_meadows/pipeline/data/SCA/CNN_AJI_CO/'\n",
    "fn_pred = glob.glob(dir_pred + '*SCA.tif')\n",
    "\n",
    "# used_list = pd.read_csv('/data0/kyang33/project/pc2_snow_cover_mapping_meadows/pipeline/data/SCA/USCOGE_20180524_ndvi/used_sence.txt', header = None)\n",
    "# fn_pred = [f for f in fn_pred if os.path.basename(f).split('_SCA')[0] in list(used_list.iloc[:,0])]\n",
    "\n",
    "validation_res = pd.DataFrame()\n",
    "num = []\n",
    "files = []\n",
    "method = []\n",
    "for i in range(len(fn_pred)):\n",
    "    ds_planet = xr.open_rasterio(fn_pred[i])\n",
    "    ds_aso_clip = ds_aso.rio.reproject_match(ds_planet)\n",
    "    \n",
    "    # fine CNN-SCA \n",
    "    f_cnn = glob.glob(dir_RS + os.path.basename(fn_pred[i]).split('_SCA')[0] + '*.tif')\n",
    "    if len(f_cnn) == 1:\n",
    "        ds_cnn = xr.open_rasterio(f_cnn[0])\n",
    "        print(f_cnn[0])\n",
    "        ds_cnn_clip = ds_cnn.rio.reproject_match(ds_planet)\n",
    "    \n",
    "    \n",
    "   \n",
    "        df = pd.DataFrame()\n",
    "        df['ASO_SD'] = np.reshape(ds_aso_clip.values, (np.product(ds_aso_clip.values.shape),))\n",
    "        df['obs'] = np.where(df['ASO_SD'] > th, 1.0, 0.0)\n",
    "        df['predict'] = np.reshape(ds_cnn_clip.values, (np.product(ds_cnn_clip.values.shape),))\n",
    "\n",
    "\n",
    "        df = df[df['ASO_SD'] != -9999]\n",
    "        df = df[df['predict'] != 9999]\n",
    "        \n",
    "        if df['obs'].mean() > 0: # for images having snow \n",
    "\n",
    "            print(\"overall model performance:\")\n",
    "            print(calculate_metrics(df))\n",
    "            validation_res=pd.concat([validation_res, calculate_metrics(df)])\n",
    "\n",
    "            method.append('CNN')\n",
    "            num.append(df.shape[0])\n",
    "            files.append(f_cnn[0])\n",
    "\n",
    "validation_res['th'] = th\n",
    "validation_res['file_SCA'] = files\n",
    "validation_res['file_ASO'] = dir_aso\n",
    "validation_res['pixel_num'] = num\n",
    "validation_res['method'] = method\n",
    "\n",
    "validation_res['Image_ID'] = [f.split('/')[-1].split('_')[1] for f in validation_res.file_SCA]"
   ]
  },
  {
   "cell_type": "code",
   "execution_count": null,
   "outputs": [],
   "source": [],
   "metadata": {
    "collapsed": false,
    "pycharm": {
     "name": "#%%\n"
    }
   }
  },
  {
   "cell_type": "code",
   "execution_count": null,
   "outputs": [],
   "source": [],
   "metadata": {
    "collapsed": false,
    "pycharm": {
     "name": "#%%\n"
    }
   }
  }
 ],
 "metadata": {
  "kernelspec": {
   "name": "compare_swe",
   "language": "python",
   "display_name": "compare_swe"
  },
  "language_info": {
   "codemirror_mode": {
    "name": "ipython",
    "version": 3
   },
   "file_extension": ".py",
   "mimetype": "text/x-python",
   "name": "python",
   "nbconvert_exporter": "python",
   "pygments_lexer": "ipython3",
   "version": "3.8.10"
  }
 },
 "nbformat": 4,
 "nbformat_minor": 5
}